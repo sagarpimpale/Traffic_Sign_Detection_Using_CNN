{
 "cells": [
  {
   "cell_type": "code",
   "execution_count": 1,
   "id": "4c18c214",
   "metadata": {},
   "outputs": [],
   "source": [
    "import numpy as np \n",
    "import pandas as pd \n",
    "import matplotlib.pyplot as plt\n",
    "import cv2\n",
    "import tensorflow as tf\n",
    "from PIL import Image\n",
    "from tensorflow import keras\n",
    "import os\n",
    "#os.chdir(r\"/content/drive/My Drive\")\n",
    "from keras.preprocessing.image import ImageDataGenerator\n",
    "from keras import backend as K\n",
    "\n",
    "from sklearn.model_selection import train_test_split\n",
    "from keras.utils import to_categorical\n",
    "from keras.models import Sequential, load_model\n",
    "from keras.layers import Conv2D, MaxPool2D, Dense, Flatten, Dropout\n",
    "import warnings\n",
    "warnings.filterwarnings('ignore')\n"
   ]
  },
  {
   "cell_type": "code",
   "execution_count": 2,
   "id": "5a98d214",
   "metadata": {},
   "outputs": [],
   "source": [
    "#store data label in the list\n",
    "data = []\n",
    "labels = []\n",
    "# We have 43 Classes\n",
    "classes = 43\n",
    "cur_path =os.getcwd()"
   ]
  },
  {
   "cell_type": "code",
   "execution_count": 3,
   "id": "3c4a0e40",
   "metadata": {},
   "outputs": [
    {
     "data": {
      "text/plain": [
       "'C:\\\\Users\\\\91770\\\\project'"
      ]
     },
     "execution_count": 3,
     "metadata": {},
     "output_type": "execute_result"
    }
   ],
   "source": [
    "cur_path"
   ]
  },
  {
   "cell_type": "code",
   "execution_count": 4,
   "id": "fb4832aa",
   "metadata": {},
   "outputs": [],
   "source": [
    "path2=os.path.join(cur_path, 'Test')\n",
    "for i in range(classes):\n",
    "    path =os.path.join(cur_path,'Train',str(i))\n",
    "    images = os.listdir(path)  \n",
    "    for a in images:\n",
    "      try:\n",
    "        image = Image.open(path +'\\\\'+ a)\n",
    "        image = image.resize((30,30))\n",
    "        image = np.array(image)\n",
    "        data.append(image)\n",
    "        labels.append(i)\n",
    "      except:\n",
    "        print(\"Error loading image\")"
   ]
  },
  {
   "cell_type": "code",
   "execution_count": 5,
   "id": "e54e41cb",
   "metadata": {},
   "outputs": [],
   "source": [
    "data=np.array(data)\n",
    "labels=np.array(labels)"
   ]
  },
  {
   "cell_type": "code",
   "execution_count": 7,
   "id": "52bd4874",
   "metadata": {},
   "outputs": [],
   "source": [
    "#save labels and model for future use\n",
    "# os.mkdir('training')\n",
    "\n",
    "np.save('./training/data',data)\n",
    "np.save('./training/target',labels)"
   ]
  },
  {
   "cell_type": "code",
   "execution_count": 8,
   "id": "95578298",
   "metadata": {},
   "outputs": [],
   "source": [
    "#load data and label\n",
    "data=np.load('./training/data.npy')\n",
    "labels=np.load('./training/target.npy')"
   ]
  },
  {
   "cell_type": "code",
   "execution_count": 9,
   "id": "e94834f6",
   "metadata": {},
   "outputs": [
    {
     "name": "stdout",
     "output_type": "stream",
     "text": [
      "(39209, 30, 30, 3) (39209,)\n"
     ]
    }
   ],
   "source": [
    "print(data.shape, labels.shape)"
   ]
  },
  {
   "cell_type": "code",
   "execution_count": 10,
   "id": "fd527edf",
   "metadata": {},
   "outputs": [
    {
     "name": "stdout",
     "output_type": "stream",
     "text": [
      "(31367, 30, 30, 3) (7842, 30, 30, 3) (31367,) (7842,)\n"
     ]
    }
   ],
   "source": [
    "X_train, X_test, y_train, y_test = train_test_split(data, labels, test_size=0.2, random_state=0)\n",
    "print(X_train.shape, X_test.shape, y_train.shape, y_test.shape)"
   ]
  },
  {
   "cell_type": "code",
   "execution_count": 11,
   "id": "f2bc53d8",
   "metadata": {},
   "outputs": [],
   "source": [
    "#convert label into one hot encoding\n",
    "y_train = to_categorical(y_train, 43)\n",
    "y_test = to_categorical(y_test, 43)"
   ]
  },
  {
   "cell_type": "code",
   "execution_count": 12,
   "id": "3a091f81",
   "metadata": {},
   "outputs": [],
   "source": [
    "#build the model\n",
    "model = Sequential()\n",
    "model.add(Conv2D(filters=32, kernel_size=(5,5), activation='relu', input_shape=X_train.shape[1:]))\n",
    "model.add(Conv2D(filters=32, kernel_size=(5,5), activation='relu'))\n",
    "model.add(MaxPool2D(pool_size=(2, 2)))\n",
    "model.add(Dropout(rate=0.25))\n",
    "model.add(Conv2D(filters=64, kernel_size=(3, 3), activation='relu'))\n",
    "model.add(Conv2D(filters=64, kernel_size=(3, 3), activation='relu'))\n",
    "model.add(MaxPool2D(pool_size=(2, 2)))\n",
    "model.add(Dropout(rate=0.25))\n",
    "model.add(Flatten())\n",
    "model.add(Dense(256, activation='relu'))\n",
    "model.add(Dropout(rate=0.5))\n",
    "# We have 43 classes that's why we have defined 43 in the dense\n",
    "model.add(Dense(43, activation='softmax'))"
   ]
  },
  {
   "cell_type": "code",
   "execution_count": 13,
   "id": "0a55240b",
   "metadata": {},
   "outputs": [],
   "source": [
    "#Compilation of the model\n",
    "model.compile(loss='categorical_crossentropy', optimizer='adam', metrics=['accuracy'])"
   ]
  },
  {
   "cell_type": "code",
   "execution_count": 14,
   "id": "de19c960",
   "metadata": {},
   "outputs": [
    {
     "name": "stdout",
     "output_type": "stream",
     "text": [
      "Epoch 1/27\n",
      "981/981 [==============================] - 45s 44ms/step - loss: 2.1447 - accuracy: 0.4615 - val_loss: 0.6762 - val_accuracy: 0.8347\n",
      "Epoch 2/27\n",
      "981/981 [==============================] - 42s 43ms/step - loss: 0.9353 - accuracy: 0.7202 - val_loss: 0.3969 - val_accuracy: 0.8877\n",
      "Epoch 3/27\n",
      "981/981 [==============================] - 42s 42ms/step - loss: 0.7301 - accuracy: 0.7789 - val_loss: 0.3150 - val_accuracy: 0.9101\n",
      "Epoch 4/27\n",
      "981/981 [==============================] - 42s 42ms/step - loss: 0.6197 - accuracy: 0.8128 - val_loss: 0.3100 - val_accuracy: 0.9146\n",
      "Epoch 5/27\n",
      "981/981 [==============================] - 42s 43ms/step - loss: 0.5132 - accuracy: 0.8445 - val_loss: 0.1999 - val_accuracy: 0.9459\n",
      "Epoch 6/27\n",
      "981/981 [==============================] - 42s 43ms/step - loss: 0.4228 - accuracy: 0.8715 - val_loss: 0.1679 - val_accuracy: 0.9504\n",
      "Epoch 7/27\n",
      "981/981 [==============================] - 42s 43ms/step - loss: 0.3825 - accuracy: 0.8859 - val_loss: 0.1820 - val_accuracy: 0.9507\n",
      "Epoch 8/27\n",
      "981/981 [==============================] - 43s 43ms/step - loss: 0.3288 - accuracy: 0.9025 - val_loss: 0.1630 - val_accuracy: 0.9550\n",
      "Epoch 9/27\n",
      "981/981 [==============================] - 41s 42ms/step - loss: 0.3081 - accuracy: 0.9092 - val_loss: 0.1412 - val_accuracy: 0.9614\n",
      "Epoch 10/27\n",
      "981/981 [==============================] - 42s 42ms/step - loss: 0.3107 - accuracy: 0.9101 - val_loss: 0.1564 - val_accuracy: 0.9555\n",
      "Epoch 11/27\n",
      "981/981 [==============================] - 41s 42ms/step - loss: 0.2812 - accuracy: 0.9168 - val_loss: 0.0938 - val_accuracy: 0.9762\n",
      "Epoch 12/27\n",
      "981/981 [==============================] - 41s 42ms/step - loss: 0.2723 - accuracy: 0.9201 - val_loss: 0.0870 - val_accuracy: 0.9753\n",
      "Epoch 13/27\n",
      "981/981 [==============================] - 41s 42ms/step - loss: 0.2836 - accuracy: 0.9182 - val_loss: 0.1453 - val_accuracy: 0.9555\n",
      "Epoch 14/27\n",
      "981/981 [==============================] - 41s 42ms/step - loss: 0.2628 - accuracy: 0.9245 - val_loss: 0.1502 - val_accuracy: 0.9541\n",
      "Epoch 15/27\n",
      "981/981 [==============================] - 41s 42ms/step - loss: 0.2502 - accuracy: 0.9282 - val_loss: 0.1014 - val_accuracy: 0.9707\n",
      "Epoch 16/27\n",
      "981/981 [==============================] - 41s 42ms/step - loss: 0.2711 - accuracy: 0.9244 - val_loss: 0.0964 - val_accuracy: 0.9737\n",
      "Epoch 17/27\n",
      "981/981 [==============================] - 41s 42ms/step - loss: 0.2781 - accuracy: 0.9250 - val_loss: 0.0903 - val_accuracy: 0.9736\n",
      "Epoch 18/27\n",
      "981/981 [==============================] - 41s 42ms/step - loss: 0.2388 - accuracy: 0.9319 - val_loss: 0.0778 - val_accuracy: 0.9776\n",
      "Epoch 19/27\n",
      "981/981 [==============================] - 41s 42ms/step - loss: 0.2707 - accuracy: 0.9256 - val_loss: 0.0934 - val_accuracy: 0.9744\n",
      "Epoch 20/27\n",
      "981/981 [==============================] - 41s 42ms/step - loss: 0.2520 - accuracy: 0.9311 - val_loss: 0.0837 - val_accuracy: 0.9795\n",
      "Epoch 21/27\n",
      "981/981 [==============================] - 42s 43ms/step - loss: 0.2628 - accuracy: 0.9277 - val_loss: 0.1025 - val_accuracy: 0.9716\n",
      "Epoch 22/27\n",
      "981/981 [==============================] - 41s 42ms/step - loss: 0.2826 - accuracy: 0.9261 - val_loss: 0.0625 - val_accuracy: 0.9846\n",
      "Epoch 23/27\n",
      "981/981 [==============================] - 42s 42ms/step - loss: 0.2372 - accuracy: 0.9373 - val_loss: 0.0805 - val_accuracy: 0.9783\n",
      "Epoch 24/27\n",
      "981/981 [==============================] - 42s 42ms/step - loss: 0.2479 - accuracy: 0.9316 - val_loss: 0.1027 - val_accuracy: 0.9690\n",
      "Epoch 25/27\n",
      "981/981 [==============================] - 41s 42ms/step - loss: 0.2751 - accuracy: 0.9268 - val_loss: 0.0816 - val_accuracy: 0.9778\n",
      "Epoch 26/27\n",
      "981/981 [==============================] - 41s 42ms/step - loss: 0.2658 - accuracy: 0.9296 - val_loss: 0.0898 - val_accuracy: 0.9760\n",
      "Epoch 27/27\n",
      "981/981 [==============================] - 41s 42ms/step - loss: 0.2692 - accuracy: 0.9288 - val_loss: 0.1157 - val_accuracy: 0.9640\n"
     ]
    }
   ],
   "source": [
    "epochs = 27  #20\n",
    "history = model.fit(X_train, y_train, batch_size=32, epochs=epochs, validation_data=(X_test, y_test))"
   ]
  },
  {
   "cell_type": "code",
   "execution_count": 15,
   "id": "6359d958",
   "metadata": {},
   "outputs": [
    {
     "data": {
      "image/png": "[encoded data removed]",
      "text/plain": [
       "<Figure size 432x288 with 1 Axes>"
      ]
     },
     "metadata": {
      "needs_background": "light"
     },
     "output_type": "display_data"
    }
   ],
   "source": [
    "# accuracy \n",
    "plt.figure(0)\n",
    "plt.plot(history.history['accuracy'], label='training accuracy')\n",
    "plt.plot(history.history['val_accuracy'], label='val accuracy')\n",
    "plt.title('Accuracy')\n",
    "plt.xlabel('epochs')\n",
    "plt.ylabel('accuracy')\n",
    "plt.legend()\n",
    "plt.show()"
   ]
  },
  {
   "cell_type": "code",
   "execution_count": 16,
   "id": "f3671ea8",
   "metadata": {},
   "outputs": [
    {
     "data": {
      "image/png": "[encoded data removed]",
      "text/plain": [
       "<Figure size 432x288 with 1 Axes>"
      ]
     },
     "metadata": {
      "needs_background": "light"
     },
     "output_type": "display_data"
    }
   ],
   "source": [
    "# Loss\n",
    "plt.plot(history.history['loss'], label='training loss')\n",
    "plt.plot(history.history['val_loss'], label='val loss')\n",
    "plt.title('Loss')\n",
    "plt.xlabel('epochs')\n",
    "plt.ylabel('loss')\n",
    "plt.legend()\n",
    "plt.show()"
   ]
  },
  {
   "cell_type": "code",
   "execution_count": 17,
   "id": "99c05319",
   "metadata": {},
   "outputs": [],
   "source": [
    "# testing on test data\n",
    "def testing(testcsv):\n",
    "    y_test = pd.read_csv(testcsv)\n",
    "    label = y_test[\"ClassId\"].values\n",
    "    imgs = y_test[\"Path\"].values\n",
    "    data=[]\n",
    "    for img in imgs:\n",
    "        image = Image.open(img)\n",
    "        image = image.resize((30,30))\n",
    "        data.append(np.array(image))\n",
    "    X_test=np.array(data)\n",
    "    return X_test,label"
   ]
  },
  {
   "cell_type": "code",
   "execution_count": 25,
   "id": "efd97e4d",
   "metadata": {},
   "outputs": [],
   "source": [
    "X_test, label = testing('Test.csv')"
   ]
  },
  {
   "cell_type": "code",
   "execution_count": 35,
   "id": "55a65a88",
   "metadata": {},
   "outputs": [
    {
     "name": "stdout",
     "output_type": "stream",
     "text": [
      "395/395 [==============================] - 4s 10ms/step\n"
     ]
    },
    {
     "data": {
      "text/plain": [
       "array([16,  1, 38, ..., 28,  7, 10], dtype=int64)"
      ]
     },
     "execution_count": 35,
     "metadata": {},
     "output_type": "execute_result"
    }
   ],
   "source": [
    "Y_pred = np.argmax(model.predict(X_test),axis=1)\n",
    "Y_pred"
   ]
  },
  {
   "cell_type": "code",
   "execution_count": 36,
   "id": "824f3486",
   "metadata": {},
   "outputs": [
    {
     "name": "stdout",
     "output_type": "stream",
     "text": [
      "0.9145684877276327\n"
     ]
    }
   ],
   "source": [
    "#accuracy with test data\n",
    "from sklearn.metrics import accuracy_score\n",
    "print(accuracy_score(label, Y_pred))"
   ]
  },
  {
   "cell_type": "code",
   "execution_count": 37,
   "id": "74ac2766",
   "metadata": {},
   "outputs": [],
   "source": [
    "#save the model\n",
    "model.save(\"./training/TSR.h5\")"
   ]
  },
  {
   "cell_type": "code",
   "execution_count": 39,
   "id": "3c59bb69",
   "metadata": {},
   "outputs": [],
   "source": [
    "#load the model\n",
    "import os\n",
    "os.chdir(r'C:\\Users\\91770\\project')\n",
    "from keras.models import load_model\n",
    "model = load_model('./training/TSR.h5')"
   ]
  },
  {
   "cell_type": "code",
   "execution_count": 40,
   "id": "f0f501df",
   "metadata": {},
   "outputs": [],
   "source": [
    "#classes of traffic sign\n",
    "classes = { 0:'Speed limit (20km/h)',\n",
    "            1:'Speed limit (30km/h)', \n",
    "            2:'Speed limit (50km/h)', \n",
    "            3:'Speed limit (60km/h)', \n",
    "            4:'Speed limit (70km/h)', \n",
    "            5:'Speed limit (80km/h)', \n",
    "            6:'End of speed limit (80km/h)', \n",
    "            7:'Speed limit (100km/h)', \n",
    "            8:'Speed limit (120km/h)', \n",
    "            9:'No passing', \n",
    "            10:'No passing veh over 3.5 tons', \n",
    "            11:'Right-of-way at intersection', \n",
    "            12:'Priority road', \n",
    "            13:'Yield', \n",
    "            14:'Stop', \n",
    "            15:'No vehicles', \n",
    "            16:'Veh > 3.5 tons prohibited', \n",
    "            17:'No entry', \n",
    "            18:'General caution', \n",
    "            19:'Dangerous curve left', \n",
    "            20:'Dangerous curve right', \n",
    "            21:'Double curve', \n",
    "            22:'Bumpy road', \n",
    "            23:'Slippery road', \n",
    "            24:'Road narrows on the right', \n",
    "            25:'Road work', \n",
    "            26:'Traffic signals', \n",
    "            27:'Pedestrians', \n",
    "            28:'Children crossing', \n",
    "            29:'Bicycles crossing', \n",
    "            30:'Beware of ice/snow',\n",
    "            31:'Wild animals crossing', \n",
    "            32:'End speed + passing limits', \n",
    "            33:'Turn right ahead', \n",
    "            34:'Turn left ahead', \n",
    "            35:'Ahead only', \n",
    "            36:'Go straight or right', \n",
    "            37:'Go straight or left', \n",
    "            38:'Keep right', \n",
    "            39:'Keep left', \n",
    "            40:'Roundabout mandatory', \n",
    "            41:'End of no passing', \n",
    "            42:'End no passing veh > 3.5 tons' }"
   ]
  },
  {
   "cell_type": "code",
   "execution_count": 45,
   "id": "b887bba4",
   "metadata": {},
   "outputs": [],
   "source": [
    "from PIL import Image\n",
    "import numpy as np\n",
    "import matplotlib.pyplot as plt\n",
    "def test_on_img(img):\n",
    "    data=[]\n",
    "    image = Image.open(img)\n",
    "    image = image.resize((30,30))\n",
    "    data.append(np.array(image))\n",
    "    X_test=np.array(data)\n",
    "    Y_pred = np.argmax(model.predict(X_test),axis=1)\n",
    "    return image,Y_pred"
   ]
  },
  {
   "cell_type": "code",
   "execution_count": 47,
   "id": "55d19de4",
   "metadata": {},
   "outputs": [
    {
     "name": "stdout",
     "output_type": "stream",
     "text": [
      "1/1 [==============================] - 0s 23ms/step\n",
      "Predicted traffic sign is:  Bumpy road\n"
     ]
    },
    {
     "data": {
      "image/png": "[encoded data removed]",
      "text/plain": [
       "<Figure size 432x288 with 1 Axes>"
      ]
     },
     "metadata": {
      "needs_background": "light"
     },
     "output_type": "display_data"
    }
   ],
   "source": [
    "plot,prediction = test_on_img(r'C:\\Users\\91770\\project\\Test\\00500.png')\n",
    "s = [str(i) for i in prediction] \n",
    "a = int(\"\".join(s)) \n",
    "print(\"Predicted traffic sign is: \", classes[a])\n",
    "plt.imshow(plot)\n",
    "plt.show()"
   ]
  },
  {
   "cell_type": "code",
   "execution_count": null,
   "id": "b777a84f",
   "metadata": {},
   "outputs": [],
   "source": []
  }
 ],
 "metadata": {
  "kernelspec": {
   "display_name": "Python 3 (ipykernel)",
   "language": "python",
   "name": "python3"
  },
  "language_info": {
   "codemirror_mode": {
    "name": "ipython",
    "version": 3
   },
   "file_extension": ".py",
   "mimetype": "text/x-python",
   "name": "python",
   "nbconvert_exporter": "python",
   "pygments_lexer": "ipython3",
   "version": "3.9.12"
  }
 },
 "nbformat": 4,
 "nbformat_minor": 5
}
